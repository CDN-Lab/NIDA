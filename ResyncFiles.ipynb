{
  "cells": [
    {
      "cell_type": "markdown",
      "metadata": {
        "id": "j471MBKkydWg"
      },
      "source": [
        "# General Description:\n",
        "\n",
        "For crdm\n",
        "\n",
        "Plotting choice as a function of delay_amount, subdivded by delay_wait_time and immediate_amount"
      ]
    },
    {
      "cell_type": "markdown",
      "metadata": {
        "id": "nfWuNzSNytd9"
      },
      "source": [
        "Importing libraries and mounting Google Drive"
      ]
    },
    {
      "cell_type": "code",
      "execution_count": 52,
      "metadata": {
        "colab": {
          "base_uri": "https://localhost:8080/"
        },
        "id": "LSm59xohy8tq",
        "outputId": "5b2f3601-0429-4955-d558-0f97ffa4871a"
      },
      "outputs": [],
      "source": [
        "import matplotlib.pyplot as plt\n",
        "import pandas as pd\n",
        "from glob import glob\n",
        "import os,sys\n"
      ]
    },
    {
      "cell_type": "code",
      "execution_count": 53,
      "metadata": {},
      "outputs": [],
      "source": [
        "# global parameters\n",
        "WAIT_DICT = {'now':0,'in 1 day': 1/30.0,'in 1 week':0.25,'in 1 month': 1, 'in 3 months':3, 'in 1 year': 12, 'in 3 months': 3, 'in 5 years':60}"
      ]
    },
    {
      "cell_type": "markdown",
      "metadata": {
        "id": "hbyLl34i1XVa"
      },
      "source": [
        "Defining count_tuples() function to return the unique items and their frequencies "
      ]
    },
    {
      "cell_type": "code",
      "execution_count": 54,
      "metadata": {},
      "outputs": [],
      "source": [
        "def resync_df(df,cols=[]):\n",
        "    # rename columns and return pertinent columns\n",
        "    df = df.rename(columns={'sure_am':'crdm_sure_amt','sure_p':'crdm_sure_p','lot_top':\n",
        "                            'crdm_lott_top','lot_bot':'crdm_lott_bot','lot_p':'crdm_lott_p', \n",
        "                            'amb_lev':'crdm_amb_lev', 'domain':'crdm_domain',\n",
        "                            'trialResp.keys':'crdm_trial_resp.keys', 'trialResp.corr':'crdm_choice',\n",
        "                            'Rating':'crdm_conf_resp.keys'})\n",
        "    df['crdm_lott_amt'] = df['crdm_lott_top'] + df['crdm_lott_bot']\n",
        "    df['crdm_trial_type'] = 'task'\n",
        "    # df['crdm_trial_resp.keys'] = df['crdm_choice']\n",
        "    # df_len = df.shape[0]\n",
        "    # df['responded'] = df['crdm_trial_resp.keys'].notna()\n",
        "    # if not df['responded'].all():\n",
        "    #     non_responses_nb = df['responded'].value_counts()[False]\n",
        "    #     print('\\n**WARNING** We dropped {0} of {1} non responses that were left blank'.format(non_responses_nb,df_len))\n",
        "    #     df = df.loc[df['responded'],:].reset_index(drop=True)    \n",
        "    return df[cols]\n",
        "  \n",
        "def tabulate_col(df,fn='/tmp/',col='crdm_immed_amt',save=False,verbose=True):\n",
        "    count_df = df[col].value_counts().sort_index()\n",
        "    count_df = count_df.reset_index()\n",
        "    if verbose:\n",
        "        print(count_df)\n",
        "    #create .csv file with this info\n",
        "    if save:\n",
        "        print(\"Saving to: {}\".format(fn))\n",
        "        count_df.to_csv(fn)\n",
        "\n",
        "def sync_and_save(split_dir,fn,cols=[],header=0,save=False):\n",
        "    try:\n",
        "        df = pd.read_csv(fn,header=header)\n",
        "    except Exception as e:\n",
        "        print('We got an Exception: {}'.format(e))\n",
        "        print('We will move on the next spreadsheet')\n",
        "        return\n",
        "    subject = get_subject(df)\n",
        "    subj_crdm_dir = os.path.join(split_dir,subject,'crdm')\n",
        "    if not os.path.exists(subj_crdm_dir):\n",
        "        print('Making subjects crdm directory : {}'.format(subj_crdm_dir))\n",
        "        os.makedirs(subj_crdm_dir)\n",
        "    df = resync_df(df,cols=cols)\n",
        "    subj_crdm_fn = os.path.join(subj_crdm_dir,'{}_crdm.csv'.format(subject))\n",
        "    print('Resynced and saving to : {}'.format(subj_crdm_fn))\n",
        "    df.to_csv(subj_crdm_fn,index=0)\n",
        "\n",
        "def get_subject(df):\n",
        "    participant = int(df['participant'].mode().iat[0])\n",
        "    session = int(df['session'].mode().iat[0])\n",
        "    subj = 'NIDA_p{0:03d}_s{1:03d}'.format(participant,session)\n",
        "    return subj\n"
      ]
    },
    {
      "cell_type": "code",
      "execution_count": 55,
      "metadata": {},
      "outputs": [
        {
          "name": "stdout",
          "output_type": "stream",
          "text": [
            "Working on file: /Volumes/UCDN/datasets/NIDA/raw_csv/Data_risky_decision_noARC/1_CDRM_fMRI_v10_2023-04-10_12h51.39.579.csv\n",
            "Resynced and saving to : /Volumes/UCDN/datasets/NIDA/split/NIDA_p001_s001/crdm/NIDA_p001_s001_crdm.csv\n",
            "Working on file: /Volumes/UCDN/datasets/NIDA/raw_csv/Data_risky_decision_noARC/1_CDRM_fMRI_v10_2023-04-26_14h54.36.902.csv\n",
            "Resynced and saving to : /Volumes/UCDN/datasets/NIDA/split/NIDA_p001_s002/crdm/NIDA_p001_s002_crdm.csv\n",
            "Working on file: /Volumes/UCDN/datasets/NIDA/raw_csv/Data_risky_decision_noARC/2_CDRM_fMRI_v10_2023-02-17_15h28.40.162.csv\n",
            "Resynced and saving to : /Volumes/UCDN/datasets/NIDA/split/NIDA_p002_s001/crdm/NIDA_p002_s001_crdm.csv\n",
            "Working on file: /Volumes/UCDN/datasets/NIDA/raw_csv/Data_risky_decision_noARC/2_CDRM_fMRI_v10_2023-02-24_14h11.04.431.csv\n",
            "Resynced and saving to : /Volumes/UCDN/datasets/NIDA/split/NIDA_p002_s002/crdm/NIDA_p002_s002_crdm.csv\n",
            "Working on file: /Volumes/UCDN/datasets/NIDA/raw_csv/Data_risky_decision_noARC/3_CDRM_fMRI_v10_2023-04-21_14h58.08.141.csv\n",
            "Resynced and saving to : /Volumes/UCDN/datasets/NIDA/split/NIDA_p003_s001/crdm/NIDA_p003_s001_crdm.csv\n",
            "Working on file: /Volumes/UCDN/datasets/NIDA/raw_csv/Data_risky_decision_noARC/3_CDRM_fMRI_v10_2023-05-05_12h34.42.093.csv\n",
            "Resynced and saving to : /Volumes/UCDN/datasets/NIDA/split/NIDA_p003_s002/crdm/NIDA_p003_s002_crdm.csv\n",
            "Working on file: /Volumes/UCDN/datasets/NIDA/raw_csv/Data_risky_decision_noARC/4_CDRM_fMRI_v10_2023-02-09_14h41.48.690.csv\n",
            "Resynced and saving to : /Volumes/UCDN/datasets/NIDA/split/NIDA_p004_s001/crdm/NIDA_p004_s001_crdm.csv\n",
            "Working on file: /Volumes/UCDN/datasets/NIDA/raw_csv/Data_risky_decision_noARC/4_CDRM_fMRI_v10_2023-02-27_15h42.56.919.csv\n",
            "Resynced and saving to : /Volumes/UCDN/datasets/NIDA/split/NIDA_p004_s002/crdm/NIDA_p004_s002_crdm.csv\n",
            "Working on file: /Volumes/UCDN/datasets/NIDA/raw_csv/Data_risky_decision_noARC/5_CDRM_fMRI_v10_2023-03-15_14h30.33.985.csv\n",
            "Resynced and saving to : /Volumes/UCDN/datasets/NIDA/split/NIDA_p005_s001/crdm/NIDA_p005_s001_crdm.csv\n",
            "Working on file: /Volumes/UCDN/datasets/NIDA/raw_csv/Data_risky_decision_noARC/5_CDRM_fMRI_v10_2023-04-03_15h22.20.412.csv\n",
            "Resynced and saving to : /Volumes/UCDN/datasets/NIDA/split/NIDA_p005_s002/crdm/NIDA_p005_s002_crdm.csv\n",
            "Working on file: /Volumes/UCDN/datasets/NIDA/raw_csv/Data_risky_decision_noARC/6_CDRM_fMRI_v10_2023-03-17_15h11.08.751.csv\n",
            "Resynced and saving to : /Volumes/UCDN/datasets/NIDA/split/NIDA_p006_s001/crdm/NIDA_p006_s001_crdm.csv\n",
            "Working on file: /Volumes/UCDN/datasets/NIDA/raw_csv/Data_risky_decision_noARC/6_CDRM_fMRI_v10_2023-04-14_15h25.13.952.csv\n",
            "Resynced and saving to : /Volumes/UCDN/datasets/NIDA/split/NIDA_p006_s002/crdm/NIDA_p006_s002_crdm.csv\n",
            "Working on file: /Volumes/UCDN/datasets/NIDA/raw_csv/Data_risky_decision_noARC/7_CDRM_fMRI_v10_2023-05-03_14h30.11.315.csv\n",
            "Resynced and saving to : /Volumes/UCDN/datasets/NIDA/split/NIDA_p007_s001/crdm/NIDA_p007_s001_crdm.csv\n",
            "Working on file: /Volumes/UCDN/datasets/NIDA/raw_csv/Data_risky_decision_noARC/7_CDRM_fMRI_v10_2023-05-16_14h36.49.813.csv\n",
            "Resynced and saving to : /Volumes/UCDN/datasets/NIDA/split/NIDA_p007_s002/crdm/NIDA_p007_s002_crdm.csv\n"
          ]
        }
      ],
      "source": [
        "raw_csv_dir = '/Volumes/UCDN/datasets/NIDA/raw_csv/Data_risky_decision_noARC/'\n",
        "split_dir = '/Volumes/UCDN/datasets/NIDA/split/'\n",
        "cols = ['crdm_choice','crdm_sure_amt','crdm_lott_amt','crdm_sure_p','crdm_lott_p','crdm_lott_top','crdm_lott_bot',\n",
        "        'crdm_amb_lev','crdm_domain','crdm_trial_type','crdm_trial_resp.keys','crdm_conf_resp.keys']\n",
        "#get set of all good data files for analysis\n",
        "good_files = sorted(glob(os.path.join(raw_csv_dir, '*.csv')))\n",
        "if (not good_files):\n",
        "    print(\"No good files available. Check file path.\")\n",
        "    sys.exit()\n",
        "\n",
        "for i, subj_fn in enumerate(good_files):\n",
        "    print('Working on file: {}'.format(subj_fn))\n",
        "    sync_and_save(split_dir,subj_fn,cols=cols,header=0,save=False)"
      ]
    }
  ],
  "metadata": {
    "colab": {
      "provenance": []
    },
    "kernelspec": {
      "display_name": "Python 3",
      "name": "python3"
    },
    "language_info": {
      "codemirror_mode": {
        "name": "ipython",
        "version": 3
      },
      "file_extension": ".py",
      "mimetype": "text/x-python",
      "name": "python",
      "nbconvert_exporter": "python",
      "pygments_lexer": "ipython3",
      "version": "3.9.16"
    }
  },
  "nbformat": 4,
  "nbformat_minor": 0
}
